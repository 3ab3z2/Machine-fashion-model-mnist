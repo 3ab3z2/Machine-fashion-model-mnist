{
 "cells": [
  {
   "cell_type": "markdown",
   "metadata": {},
   "source": [
    "# Fashion MNIST"
   ]
  },
  {
   "cell_type": "markdown",
   "metadata": {},
   "source": [
    "## Import Libraries"
   ]
  },
  {
   "cell_type": "code",
   "execution_count": null,
   "metadata": {},
   "outputs": [],
   "source": [
    "import numpy as np\n",
    "import pandas as pd\n",
    "import matplotlib.pyplot as plt\n",
    "import seaborn as sns\n",
    "\n",
    "from sklearn.preprocessing import MinMaxScaler, StandardScaler, RobustScaler\n",
    "from sklearn.model_selection import train_test_split\n",
    "\n",
    "from sklearn.linear_model import LogisticRegression\n",
    "from sklearn.neighbors import KNeighborsClassifier\n",
    "#...\n",
    "\n",
    "from sklearn.metrics import accuracy_score, confusion_matrix, precision_score, recall_score, roc_curve, auc"
   ]
  },
  {
   "cell_type": "markdown",
   "metadata": {},
   "source": [
    "## Prepare Data\n",
    "\n",
    "- convert ubyte to a dataframe/csv."
   ]
  },
  {
   "cell_type": "markdown",
   "metadata": {},
   "source": [
    "\n",
    "## Load Data\n",
    "\n",
    "- load dataframe.\n",
    "- check for missing values.\n",
    "- check for duplicated rows."
   ]
  },
  {
   "cell_type": "code",
   "execution_count": null,
   "metadata": {},
   "outputs": [],
   "source": [
    "train_data = pd.read_csv('fashion-mnist_train.csv')\n",
    "test_data = pd.read_csv('fashion-mnist_test.csv')"
   ]
  },
  {
   "cell_type": "code",
   "execution_count": null,
   "metadata": {},
   "outputs": [],
   "source": [
    "train_labels = train_data.iloc[:, 0].values\n",
    "train_images = train_data.iloc[:, 1:].values / 255.0\n",
    "\n",
    "test_labels = test_data.iloc[:, 0].values\n",
    "test_images = test_data.iloc[:, 1:].values / 255.0"
   ]
  },
  {
   "cell_type": "markdown",
   "metadata": {},
   "source": [
    "## Data Preprocessing\n",
    "\n",
    "- feature extraction\n",
    "- scaling"
   ]
  },
  {
   "cell_type": "code",
   "execution_count": null,
   "metadata": {},
   "outputs": [],
   "source": [
    "X_train, X_val, y_train, y_val= train_test_split(train_images, train_labels, test_size=0.2, random_state=42)"
   ]
  },
  {
   "cell_type": "markdown",
   "metadata": {},
   "source": [
    "## Model Training"
   ]
  },
  {
   "cell_type": "markdown",
   "metadata": {},
   "source": [
    "\n",
    "### LogisticRegression"
   ]
  },
  {
   "cell_type": "code",
   "execution_count": null,
   "metadata": {},
   "outputs": [],
   "source": [
    "logistic_model = LogisticRegression(max_iter=1000, solver='lbfgs', multi_class='multinomial')\n",
    "logistic_model.fit(X_train, y_train)\n",
    "\n",
    "logistic_val_predictions = logistic_model.predict(X_val)\n",
    "logistic_test_predictions = logistic_model.predict(test_images)\n",
    "logistic_test_probabilities = logistic_model.predict_proba(test_images)\n",
    "\n",
    "logistic_val_accuracy = accuracy_score(y_val, logistic_val_predictions)\n",
    "logistic_test_accuracy = accuracy_score(test_labels, logistic_test_predictions)\n",
    "\n",
    "print(f'Logistic Regression Validation Accuracy: {logistic_val_accuracy:.4f}')\n",
    "print(f'Logistic Regression Test Accuracy: {logistic_test_accuracy:.4f}')\n",
    "\n",
    "logistic_conf_matrix = confusion_matrix(test_labels, logistic_test_predictions)\n",
    "print('Logistic Regression Confusion Matrix:')\n",
    "print(logistic_conf_matrix)\n",
    "\n",
    "logistic_precision = precision_score(test_labels, logistic_test_predictions, average='macro')\n",
    "logistic_recall = recall_score(test_labels, logistic_test_predictions, average='macro')\n",
    "\n",
    "print(f'Logistic Regression Precision: {logistic_precision:.4f}')\n",
    "print(f'Logistic Regression Recall: {logistic_recall:.4f}')\n"
   ]
  },
  {
   "cell_type": "markdown",
   "metadata": {},
   "source": [
    "### KNNClassifier"
   ]
  },
  {
   "cell_type": "code",
   "execution_count": null,
   "metadata": {},
   "outputs": [],
   "source": [
    "knn_model = KNeighborsClassifier(n_neighbors=5)\n",
    "knn_model.fit(X_train, y_train)\n",
    "\n",
    "knn_val_predictions = knn_model.predict(X_val)\n",
    "knn_test_predictions = knn_model.predict(test_images)\n",
    "knn_test_probabilities = knn_model.predict_proba(test_images)\n",
    "\n",
    "knn_val_accuracy = accuracy_score(y_val, knn_val_predictions)\n",
    "knn_test_accuracy = accuracy_score(test_labels, knn_test_predictions)\n",
    "\n",
    "print(f'KNN Validation Accuracy: {knn_val_accuracy:.4f}')\n",
    "print(f'KNN Test Accuracy: {knn_test_accuracy:.4f}')\n",
    "\n",
    "knn_conf_matrix = confusion_matrix(test_labels, knn_test_predictions)\n",
    "print('KNN Confusion Matrix:')\n",
    "print(knn_conf_matrix)\n",
    "\n",
    "knn_precision = precision_score(test_labels, knn_test_predictions, average='macro')\n",
    "knn_recall = recall_score(test_labels, knn_test_predictions, average='macro')\n",
    "\n",
    "print(f'KNN Precision: {knn_precision:.4f}')\n",
    "print(f'KNN Recall: {knn_recall:.4f}')"
   ]
  },
  {
   "cell_type": "markdown",
   "metadata": {},
   "source": [
    "## Model Evaluation\n",
    "\n",
    "- loss curve.\n",
    "- accuracy curve.\n",
    "- confusion_matrix (precision, recall).\n",
    "- ROC curve (AUC)."
   ]
  },
  {
   "cell_type": "code",
   "execution_count": null,
   "metadata": {},
   "outputs": [],
   "source": [
    "fpr_logistic = {}\n",
    "tpr_logistic = {}\n",
    "roc_auc_logistic = {}\n",
    "fpr_knn = {}\n",
    "tpr_knn = {}\n",
    "roc_auc_knn = {}\n",
    "\n",
    "for i in range(10):\n",
    "    fpr_logistic[i], tpr_logistic[i], _ = roc_curve(test_labels == i, logistic_test_probabilities[:, i])\n",
    "    roc_auc_logistic[i] = auc(fpr_logistic[i], tpr_logistic[i])\n",
    "    fpr_knn[i], tpr_knn[i], _ = roc_curve(test_labels == i, knn_test_probabilities[:, i])\n",
    "    roc_auc_knn[i] = auc(fpr_knn[i], tpr_knn[i])\n",
    "\n",
    "plt.figure(figsize=(12, 8))\n",
    "for i in range(10):\n",
    "    plt.plot(fpr_logistic[i], tpr_logistic[i], label=f'Logistic Class {i} (AUC = {roc_auc_logistic[i]:.2f})')\n",
    "    plt.plot(fpr_knn[i], tpr_knn[i], label=f'KNN Class {i} (AUC = {roc_auc_knn[i]:.2f})', linestyle='--')\n",
    "plt.plot([0, 1], [0, 1], 'k--')\n",
    "plt.xlim([0.0, 1.0])\n",
    "plt.ylim([0.0, 1.05])\n",
    "plt.xlabel('False Positive Rate')\n",
    "plt.ylabel('True Positive Rate')\n",
    "plt.title('Receiver Operating Characteristic (ROC) Curve')\n",
    "plt.legend(loc='lower right')\n",
    "plt.show()"
   ]
  },
  {
   "cell_type": "markdown",
   "metadata": {},
   "source": [
    "\n",
    "## Conclusion"
   ]
  }
 ],
 "metadata": {
  "kernelspec": {
   "display_name": "Python 3",
   "language": "python",
   "name": "python3"
  },
  "language_info": {
   "codemirror_mode": {
    "name": "ipython",
    "version": 3
   },
   "file_extension": ".py",
   "mimetype": "text/x-python",
   "name": "python",
   "nbconvert_exporter": "python",
   "pygments_lexer": "ipython3",
   "version": "3.11.8"
  }
 },
 "nbformat": 4,
 "nbformat_minor": 2
}
